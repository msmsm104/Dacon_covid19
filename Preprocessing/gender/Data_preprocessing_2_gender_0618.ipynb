{
  "cells": [
    {
      "cell_type": "markdown",
      "metadata": {
        "id": "view-in-github",
        "colab_type": "text"
      },
      "source": [
        "<a href=\"https://colab.research.google.com/github/msmsm104/Dacon_covid19/blob/main/Preprocessing/gender/Data_preprocessing_2_gender_0618.ipynb\" target=\"_parent\"><img src=\"https://colab.research.google.com/assets/colab-badge.svg\" alt=\"Open In Colab\"/></a>"
      ]
    },
    {
      "cell_type": "markdown",
      "id": "b3be78fa",
      "metadata": {
        "id": "b3be78fa"
      },
      "source": [
        "### Import"
      ]
    },
    {
      "cell_type": "code",
      "execution_count": null,
      "id": "86b794d8",
      "metadata": {
        "id": "86b794d8"
      },
      "outputs": [],
      "source": [
        "import random\n",
        "import pandas as pd\n",
        "import numpy as np\n",
        "\n",
        "from sklearn.preprocessing import OneHotEncoder\n",
        "\n",
        "import warnings\n",
        "warnings.filterwarnings(action='ignore') "
      ]
    },
    {
      "cell_type": "code",
      "execution_count": null,
      "id": "b99aa1a9",
      "metadata": {
        "id": "b99aa1a9"
      },
      "outputs": [],
      "source": [
        "# wav 파일의 MFCC Feature와 상태정보를 합친 학습데이터를 불러옵니다.\n",
        "train_df = pd.read_csv('../Data/Interim/mfcc/train_mfcc_data(32).csv')\n",
        "test_df = pd.read_csv('../Data/Interim/mfcc/test_mfcc_data(32).csv')\n",
        "\n",
        "\n",
        "# 학습데이터를 모델의 input으로 들어갈 x와 label로 사용할 y로 분할\n",
        "# train_x = train_df.drop(columns=['id', 'covid19'])\n",
        "# train_y = train_df['covid19']"
      ]
    },
    {
      "cell_type": "code",
      "execution_count": null,
      "id": "b6669839",
      "metadata": {
        "id": "b6669839"
      },
      "outputs": [],
      "source": [
        "train_df = pd.get_dummies(data=train_df, columns=['gender'])\n",
        "test_df = pd.get_dummies(data=test_df, columns=['gender'])"
      ]
    },
    {
      "cell_type": "code",
      "execution_count": null,
      "id": "c83467fa",
      "metadata": {
        "id": "c83467fa"
      },
      "outputs": [],
      "source": [
        "train_df.to_csv('../Data/Interim/gender/train_gender_mfcc.csv', index=False)\n",
        "test_df.to_csv('../Data/Interim/gender/test_gender_mfcc.csv', index=False)"
      ]
    },
    {
      "cell_type": "code",
      "execution_count": null,
      "id": "2e579ee4",
      "metadata": {
        "id": "2e579ee4"
      },
      "outputs": [],
      "source": [
        ""
      ]
    }
  ],
  "metadata": {
    "kernelspec": {
      "display_name": "Python 3 (ipykernel)",
      "language": "python",
      "name": "python3"
    },
    "language_info": {
      "codemirror_mode": {
        "name": "ipython",
        "version": 3
      },
      "file_extension": ".py",
      "mimetype": "text/x-python",
      "name": "python",
      "nbconvert_exporter": "python",
      "pygments_lexer": "ipython3",
      "version": "3.8.13"
    },
    "colab": {
      "name": "Data_preprocessing_2_gender_0618.ipynb",
      "provenance": [],
      "include_colab_link": true
    }
  },
  "nbformat": 4,
  "nbformat_minor": 5
}