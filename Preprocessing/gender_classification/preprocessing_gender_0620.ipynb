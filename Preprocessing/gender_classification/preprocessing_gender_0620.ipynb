{
 "cells": [
  {
   "cell_type": "code",
   "execution_count": 1,
   "id": "df52b05e",
   "metadata": {},
   "outputs": [],
   "source": [
    "import numpy as np\n",
    "import pandas as pd\n",
    "import matplotlib.pyplot as plt\n",
    "import seaborn as sns"
   ]
  },
  {
   "cell_type": "code",
   "execution_count": 2,
   "id": "8cf16826",
   "metadata": {},
   "outputs": [],
   "source": [
    "train_df = pd.read_csv('../Data/Interim/mfcc/train_mfcc_data(32).csv')\n",
    "unlabeled_df = pd.read_csv('../Data/Interim/unlabeled/unlabeled_mfcc_data.csv')\n",
    "test_df = pd.read_csv('../Data/Interim/mfcc/test_mfcc_data(32).csv')"
   ]
  },
  {
   "cell_type": "code",
   "execution_count": 3,
   "id": "6ace1afa",
   "metadata": {},
   "outputs": [],
   "source": [
    "def making_train_data(train_df, unlabeled_df, save_file_path):\n",
    "    train = train_df.drop(columns=['id', 'covid19'])\n",
    "    unlabeled = unlabeled_df.drop(columns=['id'])\n",
    "    \n",
    "    data = pd.concat([train, unlabeled])\n",
    "    \n",
    "    no_other_df = data[data['gender'] != 'other']\n",
    "    no_other_df['gender'] = no_other_df['gender'].map(lambda x : 0 if x == 'male' else 1)\n",
    "\n",
    "    no_other_df.to_csv(save_file_path + 'test.csv', index=False)\n",
    "    \n",
    "    return True"
   ]
  },
  {
   "cell_type": "code",
   "execution_count": 4,
   "id": "738cdfc3",
   "metadata": {},
   "outputs": [
    {
     "name": "stderr",
     "output_type": "stream",
     "text": [
      "/var/folders/tk/cydrbpwj5lb47v6dw2_k2xth0000gn/T/ipykernel_25663/4183236530.py:8: SettingWithCopyWarning: \n",
      "A value is trying to be set on a copy of a slice from a DataFrame.\n",
      "Try using .loc[row_indexer,col_indexer] = value instead\n",
      "\n",
      "See the caveats in the documentation: https://pandas.pydata.org/pandas-docs/stable/user_guide/indexing.html#returning-a-view-versus-a-copy\n",
      "  no_other_df['gender'] = no_other_df['gender'].map(lambda x : 0 if x == 'male' else 1)\n"
     ]
    },
    {
     "data": {
      "text/plain": [
       "True"
      ]
     },
     "execution_count": 4,
     "metadata": {},
     "output_type": "execute_result"
    }
   ],
   "source": [
    "making_train_data(train_df, unlabeled_df, '../Data/Interim/')"
   ]
  },
  {
   "cell_type": "code",
   "execution_count": null,
   "id": "42482d6b",
   "metadata": {},
   "outputs": [],
   "source": []
  }
 ],
 "metadata": {
  "kernelspec": {
   "display_name": "Python 3 (ipykernel)",
   "language": "python",
   "name": "python3"
  },
  "language_info": {
   "codemirror_mode": {
    "name": "ipython",
    "version": 3
   },
   "file_extension": ".py",
   "mimetype": "text/x-python",
   "name": "python",
   "nbconvert_exporter": "python",
   "pygments_lexer": "ipython3",
   "version": "3.8.13"
  }
 },
 "nbformat": 4,
 "nbformat_minor": 5
}
